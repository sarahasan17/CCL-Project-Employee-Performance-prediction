{
  "nbformat": 4,
  "nbformat_minor": 0,
  "metadata": {
    "colab": {
      "provenance": [],
      "include_colab_link": true
    },
    "kernelspec": {
      "name": "python3",
      "display_name": "Python 3"
    }
  },
  "cells": [
    {
      "cell_type": "markdown",
      "metadata": {
        "id": "view-in-github",
        "colab_type": "text"
      },
      "source": [
        "<a href=\"https://colab.research.google.com/github/sarahasan17/CCL-Project-Employee-Performance-prediction/blob/main/using_random_forest_regression.ipynb\" target=\"_parent\"><img src=\"https://colab.research.google.com/assets/colab-badge.svg\" alt=\"Open In Colab\"/></a>"
      ]
    },
    {
      "cell_type": "markdown",
      "metadata": {
        "id": "LeamvpPVXuS_"
      },
      "source": [
        "# Random Forest Regression"
      ]
    },
    {
      "cell_type": "markdown",
      "metadata": {
        "id": "O2wvZ7SKXzVC"
      },
      "source": [
        "## Importing the libraries"
      ]
    },
    {
      "cell_type": "code",
      "metadata": {
        "id": "PVmESEFZX4Ig"
      },
      "source": [
        "import numpy as np\n",
        "import matplotlib.pyplot as plt\n",
        "import pandas as pd"
      ],
      "execution_count": 5,
      "outputs": []
    },
    {
      "cell_type": "markdown",
      "metadata": {
        "id": "zgbK_F8-X7em"
      },
      "source": [
        "## Importing the dataset"
      ]
    },
    {
      "cell_type": "code",
      "metadata": {
        "id": "adBE4tjQX_Bh"
      },
      "source": [
        "dataset = pd.read_csv('employee_performance.csv')\n",
        "X = dataset.iloc[:, :-1].values\n",
        "y = dataset.iloc[:, -1].values"
      ],
      "execution_count": 6,
      "outputs": []
    },
    {
      "cell_type": "markdown",
      "source": [
        "## Taking care of the missing values by replacing them with mean"
      ],
      "metadata": {
        "id": "ID0bM1EvdAVA"
      }
    },
    {
      "cell_type": "code",
      "source": [
        "from sklearn.impute import SimpleImputer\n",
        "imputer=SimpleImputer(missing_values=np.nan, strategy='mean')\n",
        "imputer.fit(X)\n",
        "X=imputer.transform(X)"
      ],
      "metadata": {
        "id": "cGwrgK9Lc81k"
      },
      "execution_count": 7,
      "outputs": []
    },
    {
      "cell_type": "markdown",
      "metadata": {
        "id": "ptNjcy7bOBlD"
      },
      "source": [
        "## Splitting the dataset into the Training set and Test set"
      ]
    },
    {
      "cell_type": "code",
      "metadata": {
        "id": "C7NdofoCOFQF"
      },
      "source": [
        "from sklearn.model_selection import train_test_split\n",
        "X_train, X_test, y_train, y_test = train_test_split(X, y, test_size = 0.2, random_state = 0)"
      ],
      "execution_count": 8,
      "outputs": []
    },
    {
      "cell_type": "markdown",
      "metadata": {
        "id": "v4S2fyIBYDcu"
      },
      "source": [
        "## Training the Random Forest Regression model on the whole dataset"
      ]
    },
    {
      "cell_type": "code",
      "metadata": {
        "id": "o8dOCoJ1YKMc",
        "colab": {
          "base_uri": "https://localhost:8080/",
          "height": 74
        },
        "outputId": "b13d9b1c-e57b-4028-c860-887be59e0d8d"
      },
      "source": [
        "from sklearn.ensemble import RandomForestRegressor\n",
        "regressor = RandomForestRegressor(n_estimators = 10, random_state = 0)\n",
        "regressor.fit(X_train, y_train)"
      ],
      "execution_count": 9,
      "outputs": [
        {
          "output_type": "execute_result",
          "data": {
            "text/plain": [
              "RandomForestRegressor(n_estimators=10, random_state=0)"
            ],
            "text/html": [
              "<style>#sk-container-id-1 {color: black;background-color: white;}#sk-container-id-1 pre{padding: 0;}#sk-container-id-1 div.sk-toggleable {background-color: white;}#sk-container-id-1 label.sk-toggleable__label {cursor: pointer;display: block;width: 100%;margin-bottom: 0;padding: 0.3em;box-sizing: border-box;text-align: center;}#sk-container-id-1 label.sk-toggleable__label-arrow:before {content: \"▸\";float: left;margin-right: 0.25em;color: #696969;}#sk-container-id-1 label.sk-toggleable__label-arrow:hover:before {color: black;}#sk-container-id-1 div.sk-estimator:hover label.sk-toggleable__label-arrow:before {color: black;}#sk-container-id-1 div.sk-toggleable__content {max-height: 0;max-width: 0;overflow: hidden;text-align: left;background-color: #f0f8ff;}#sk-container-id-1 div.sk-toggleable__content pre {margin: 0.2em;color: black;border-radius: 0.25em;background-color: #f0f8ff;}#sk-container-id-1 input.sk-toggleable__control:checked~div.sk-toggleable__content {max-height: 200px;max-width: 100%;overflow: auto;}#sk-container-id-1 input.sk-toggleable__control:checked~label.sk-toggleable__label-arrow:before {content: \"▾\";}#sk-container-id-1 div.sk-estimator input.sk-toggleable__control:checked~label.sk-toggleable__label {background-color: #d4ebff;}#sk-container-id-1 div.sk-label input.sk-toggleable__control:checked~label.sk-toggleable__label {background-color: #d4ebff;}#sk-container-id-1 input.sk-hidden--visually {border: 0;clip: rect(1px 1px 1px 1px);clip: rect(1px, 1px, 1px, 1px);height: 1px;margin: -1px;overflow: hidden;padding: 0;position: absolute;width: 1px;}#sk-container-id-1 div.sk-estimator {font-family: monospace;background-color: #f0f8ff;border: 1px dotted black;border-radius: 0.25em;box-sizing: border-box;margin-bottom: 0.5em;}#sk-container-id-1 div.sk-estimator:hover {background-color: #d4ebff;}#sk-container-id-1 div.sk-parallel-item::after {content: \"\";width: 100%;border-bottom: 1px solid gray;flex-grow: 1;}#sk-container-id-1 div.sk-label:hover label.sk-toggleable__label {background-color: #d4ebff;}#sk-container-id-1 div.sk-serial::before {content: \"\";position: absolute;border-left: 1px solid gray;box-sizing: border-box;top: 0;bottom: 0;left: 50%;z-index: 0;}#sk-container-id-1 div.sk-serial {display: flex;flex-direction: column;align-items: center;background-color: white;padding-right: 0.2em;padding-left: 0.2em;position: relative;}#sk-container-id-1 div.sk-item {position: relative;z-index: 1;}#sk-container-id-1 div.sk-parallel {display: flex;align-items: stretch;justify-content: center;background-color: white;position: relative;}#sk-container-id-1 div.sk-item::before, #sk-container-id-1 div.sk-parallel-item::before {content: \"\";position: absolute;border-left: 1px solid gray;box-sizing: border-box;top: 0;bottom: 0;left: 50%;z-index: -1;}#sk-container-id-1 div.sk-parallel-item {display: flex;flex-direction: column;z-index: 1;position: relative;background-color: white;}#sk-container-id-1 div.sk-parallel-item:first-child::after {align-self: flex-end;width: 50%;}#sk-container-id-1 div.sk-parallel-item:last-child::after {align-self: flex-start;width: 50%;}#sk-container-id-1 div.sk-parallel-item:only-child::after {width: 0;}#sk-container-id-1 div.sk-dashed-wrapped {border: 1px dashed gray;margin: 0 0.4em 0.5em 0.4em;box-sizing: border-box;padding-bottom: 0.4em;background-color: white;}#sk-container-id-1 div.sk-label label {font-family: monospace;font-weight: bold;display: inline-block;line-height: 1.2em;}#sk-container-id-1 div.sk-label-container {text-align: center;}#sk-container-id-1 div.sk-container {/* jupyter's `normalize.less` sets `[hidden] { display: none; }` but bootstrap.min.css set `[hidden] { display: none !important; }` so we also need the `!important` here to be able to override the default hidden behavior on the sphinx rendered scikit-learn.org. See: https://github.com/scikit-learn/scikit-learn/issues/21755 */display: inline-block !important;position: relative;}#sk-container-id-1 div.sk-text-repr-fallback {display: none;}</style><div id=\"sk-container-id-1\" class=\"sk-top-container\"><div class=\"sk-text-repr-fallback\"><pre>RandomForestRegressor(n_estimators=10, random_state=0)</pre><b>In a Jupyter environment, please rerun this cell to show the HTML representation or trust the notebook. <br />On GitHub, the HTML representation is unable to render, please try loading this page with nbviewer.org.</b></div><div class=\"sk-container\" hidden><div class=\"sk-item\"><div class=\"sk-estimator sk-toggleable\"><input class=\"sk-toggleable__control sk-hidden--visually\" id=\"sk-estimator-id-1\" type=\"checkbox\" checked><label for=\"sk-estimator-id-1\" class=\"sk-toggleable__label sk-toggleable__label-arrow\">RandomForestRegressor</label><div class=\"sk-toggleable__content\"><pre>RandomForestRegressor(n_estimators=10, random_state=0)</pre></div></div></div></div></div>"
            ]
          },
          "metadata": {},
          "execution_count": 9
        }
      ]
    },
    {
      "cell_type": "markdown",
      "metadata": {
        "id": "DM_jh0frOPKE"
      },
      "source": [
        "## Predicting the Test set results"
      ]
    },
    {
      "cell_type": "code",
      "metadata": {
        "id": "JGa9ZfM4OTNw",
        "colab": {
          "base_uri": "https://localhost:8080/"
        },
        "outputId": "851eb4fd-2c90-4d85-da25-518d77c4d04d"
      },
      "source": [
        "y_pred = regressor.predict(X_test)\n",
        "np.set_printoptions(precision=2)\n",
        "print(np.concatenate((y_pred.reshape(len(y_pred),1), y_test.reshape(len(y_test),1)),1))"
      ],
      "execution_count": 10,
      "outputs": [
        {
          "output_type": "stream",
          "name": "stdout",
          "text": [
            "[[0.76 0.75]\n",
            " [0.8  0.8 ]\n",
            " [0.74 0.66]\n",
            " [0.6  0.73]\n",
            " [0.53 0.39]\n",
            " [0.57 0.54]\n",
            " [0.7  0.68]\n",
            " [0.81 0.8 ]\n",
            " [0.81 0.8 ]\n",
            " [0.75 0.75]\n",
            " [0.73 0.75]\n",
            " [0.81 0.9 ]\n",
            " [0.61 0.86]\n",
            " [0.66 0.76]\n",
            " [0.61 0.91]\n",
            " [0.91 0.76]\n",
            " [0.66 0.9 ]\n",
            " [0.69 0.7 ]\n",
            " [0.85 0.91]\n",
            " [0.5  0.7 ]\n",
            " [0.65 0.7 ]\n",
            " [0.76 0.75]\n",
            " [0.72 0.7 ]\n",
            " [0.8  0.8 ]\n",
            " [0.84 0.81]\n",
            " [1.   1.  ]\n",
            " [0.71 0.83]\n",
            " [0.87 0.94]\n",
            " [0.44 0.6 ]\n",
            " [0.85 0.73]\n",
            " [0.62 0.6 ]\n",
            " [0.81 0.8 ]\n",
            " [0.64 1.01]\n",
            " [0.54 0.65]\n",
            " [0.62 0.77]\n",
            " [0.8  0.8 ]\n",
            " [0.4  0.33]\n",
            " [0.63 0.65]\n",
            " [0.49 0.45]\n",
            " [0.47 0.63]\n",
            " [0.81 0.66]\n",
            " [0.82 0.54]\n",
            " [0.62 0.82]\n",
            " [0.73 0.87]\n",
            " [0.7  0.73]\n",
            " [0.76 0.75]\n",
            " [0.91 0.98]\n",
            " [0.71 0.8 ]\n",
            " [0.7  0.7 ]\n",
            " [0.47 0.35]\n",
            " [0.75 0.75]\n",
            " [0.47 0.54]\n",
            " [0.71 0.7 ]\n",
            " [0.9  0.9 ]\n",
            " [0.69 0.66]\n",
            " [0.53 0.23]\n",
            " [0.68 0.6 ]\n",
            " [0.84 0.85]\n",
            " [0.47 0.7 ]\n",
            " [0.39 0.35]\n",
            " [0.64 0.7 ]\n",
            " [0.72 0.8 ]\n",
            " [0.81 0.9 ]\n",
            " [0.47 0.35]\n",
            " [0.9  0.86]\n",
            " [0.7  0.7 ]\n",
            " [0.75 0.75]\n",
            " [0.72 0.76]\n",
            " [0.96 0.8 ]\n",
            " [0.48 0.7 ]\n",
            " [0.91 0.9 ]\n",
            " [0.68 0.98]\n",
            " [0.41 0.38]\n",
            " [0.81 0.75]\n",
            " [0.75 0.7 ]\n",
            " [0.76 0.75]\n",
            " [0.46 0.47]\n",
            " [0.78 0.88]\n",
            " [0.86 0.82]\n",
            " [0.65 0.75]\n",
            " [0.55 0.44]\n",
            " [0.75 0.75]\n",
            " [0.88 0.93]\n",
            " [0.75 0.85]\n",
            " [0.86 0.9 ]\n",
            " [0.67 0.75]\n",
            " [0.83 0.35]\n",
            " [0.84 0.82]\n",
            " [0.79 0.85]\n",
            " [0.91 0.97]\n",
            " [0.81 0.58]\n",
            " [0.45 0.8 ]\n",
            " [0.76 0.75]\n",
            " [0.86 0.93]\n",
            " [0.8  0.8 ]\n",
            " [0.55 0.47]\n",
            " [0.54 0.41]\n",
            " [0.8  0.8 ]\n",
            " [0.89 0.9 ]\n",
            " [0.53 0.85]\n",
            " [0.74 0.7 ]\n",
            " [0.8  0.8 ]\n",
            " [0.77 0.86]\n",
            " [0.74 0.41]\n",
            " [0.71 0.7 ]\n",
            " [0.59 0.82]\n",
            " [0.75 0.75]\n",
            " [0.76 0.27]\n",
            " [0.79 0.8 ]\n",
            " [0.51 0.26]\n",
            " [0.75 0.81]\n",
            " [0.7  0.67]\n",
            " [0.81 0.8 ]\n",
            " [0.85 1.02]\n",
            " [0.93 0.92]\n",
            " [0.69 0.7 ]\n",
            " [0.66 0.65]\n",
            " [0.78 0.8 ]\n",
            " [0.53 0.7 ]\n",
            " [0.78 0.64]\n",
            " [0.82 0.8 ]\n",
            " [0.42 0.35]\n",
            " [0.78 0.8 ]\n",
            " [0.8  0.8 ]\n",
            " [0.71 0.7 ]\n",
            " [0.7  0.7 ]\n",
            " [0.68 0.76]\n",
            " [0.93 1.  ]\n",
            " [0.57 0.39]\n",
            " [0.65 0.65]\n",
            " [0.68 0.24]\n",
            " [0.8  0.8 ]\n",
            " [0.61 0.66]\n",
            " [0.77 0.26]\n",
            " [0.8  0.8 ]\n",
            " [0.44 0.35]\n",
            " [0.8  0.85]\n",
            " [0.75 0.8 ]\n",
            " [0.64 0.6 ]\n",
            " [0.66 0.48]\n",
            " [0.73 0.75]\n",
            " [0.69 0.7 ]\n",
            " [0.85 0.97]\n",
            " [0.64 0.66]\n",
            " [0.8  0.8 ]\n",
            " [0.63 0.45]\n",
            " [0.81 0.8 ]\n",
            " [0.93 0.97]\n",
            " [0.64 0.55]\n",
            " [0.88 0.86]\n",
            " [0.63 0.26]\n",
            " [0.69 0.63]\n",
            " [0.81 0.8 ]\n",
            " [0.8  0.8 ]\n",
            " [0.83 0.85]\n",
            " [0.6  0.33]\n",
            " [0.83 0.35]\n",
            " [0.54 0.53]\n",
            " [0.76 0.79]\n",
            " [0.44 0.35]\n",
            " [0.69 0.9 ]\n",
            " [1.   1.  ]\n",
            " [0.9  0.85]\n",
            " [0.88 0.87]\n",
            " [0.62 0.58]\n",
            " [0.66 0.64]\n",
            " [0.95 0.95]\n",
            " [0.85 0.85]\n",
            " [0.74 0.75]\n",
            " [0.7  0.95]\n",
            " [0.75 0.75]\n",
            " [0.93 0.65]\n",
            " [0.76 0.31]\n",
            " [0.8  0.25]\n",
            " [0.68 0.75]\n",
            " [0.98 0.88]\n",
            " [0.75 0.75]\n",
            " [0.75 0.75]\n",
            " [0.95 0.95]\n",
            " [0.84 0.85]\n",
            " [0.91 0.88]\n",
            " [0.7  0.7 ]\n",
            " [0.7  0.91]\n",
            " [0.67 0.99]\n",
            " [0.67 0.67]\n",
            " [0.75 0.76]\n",
            " [0.81 0.8 ]\n",
            " [0.85 0.85]\n",
            " [0.53 0.28]\n",
            " [0.79 0.8 ]\n",
            " [0.83 0.79]\n",
            " [0.61 0.65]\n",
            " [0.61 0.33]\n",
            " [0.94 0.89]\n",
            " [0.56 0.63]\n",
            " [0.78 0.87]\n",
            " [0.92 0.96]\n",
            " [0.41 0.3 ]\n",
            " [0.87 0.85]\n",
            " [0.55 0.7 ]\n",
            " [0.79 0.89]\n",
            " [0.5  0.54]\n",
            " [0.7  0.65]\n",
            " [0.88 1.  ]]\n"
          ]
        }
      ]
    },
    {
      "cell_type": "markdown",
      "metadata": {
        "id": "Cd8VZM5POWXN"
      },
      "source": [
        "## Evaluating the Model Performance"
      ]
    },
    {
      "cell_type": "code",
      "metadata": {
        "id": "a7y1rXlfOZJo",
        "colab": {
          "base_uri": "https://localhost:8080/"
        },
        "outputId": "295a226d-0c8c-4fb7-ad9d-35c0b0067a72"
      },
      "source": [
        "from sklearn.metrics import r2_score\n",
        "r2_score(y_test, y_pred)"
      ],
      "execution_count": 11,
      "outputs": [
        {
          "output_type": "execute_result",
          "data": {
            "text/plain": [
              "0.3932082584265588"
            ]
          },
          "metadata": {},
          "execution_count": 11
        }
      ]
    }
  ]
}