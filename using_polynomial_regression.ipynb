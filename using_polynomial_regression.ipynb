{
  "nbformat": 4,
  "nbformat_minor": 0,
  "metadata": {
    "colab": {
      "provenance": [],
      "include_colab_link": true
    },
    "kernelspec": {
      "name": "python3",
      "display_name": "Python 3"
    }
  },
  "cells": [
    {
      "cell_type": "markdown",
      "metadata": {
        "id": "view-in-github",
        "colab_type": "text"
      },
      "source": [
        "<a href=\"https://colab.research.google.com/github/sarahasan17/CCL-Project-Employee-Performance-prediction/blob/main/using_polynomial_regression.ipynb\" target=\"_parent\"><img src=\"https://colab.research.google.com/assets/colab-badge.svg\" alt=\"Open In Colab\"/></a>"
      ]
    },
    {
      "cell_type": "markdown",
      "metadata": {
        "id": "vN99YjPTDena"
      },
      "source": [
        "# Polynomial Regression"
      ]
    },
    {
      "cell_type": "markdown",
      "metadata": {
        "id": "ZIx_naXnDyHd"
      },
      "source": [
        "## Importing the libraries"
      ]
    },
    {
      "cell_type": "code",
      "metadata": {
        "id": "FjnmdyPLD2tS"
      },
      "source": [
        "import numpy as np\n",
        "import matplotlib.pyplot as plt\n",
        "import pandas as pd"
      ],
      "execution_count": 1,
      "outputs": []
    },
    {
      "cell_type": "markdown",
      "metadata": {
        "id": "6c8YExmOD5x5"
      },
      "source": [
        "## Importing the dataset"
      ]
    },
    {
      "cell_type": "code",
      "metadata": {
        "id": "nQOdXhjXD_AE"
      },
      "source": [
        "dataset = pd.read_csv('employee_performance.csv')\n",
        "X = dataset.iloc[:, :-1].values\n",
        "y = dataset.iloc[:, -1].values"
      ],
      "execution_count": 2,
      "outputs": []
    },
    {
      "cell_type": "code",
      "source": [
        "dataset.shape"
      ],
      "metadata": {
        "colab": {
          "base_uri": "https://localhost:8080/"
        },
        "id": "GqjBuP8UbzKd",
        "outputId": "a348d1f6-2b45-43dd-b661-9faea36f95dd"
      },
      "execution_count": 3,
      "outputs": [
        {
          "output_type": "execute_result",
          "data": {
            "text/plain": [
              "(1017, 26)"
            ]
          },
          "metadata": {},
          "execution_count": 3
        }
      ]
    },
    {
      "cell_type": "code",
      "source": [
        "dataset.columns"
      ],
      "metadata": {
        "colab": {
          "base_uri": "https://localhost:8080/"
        },
        "id": "IN1hVLtNb-Z-",
        "outputId": "9e68ae77-810e-473f-d2bb-14c95d9afc63"
      },
      "execution_count": 4,
      "outputs": [
        {
          "output_type": "execute_result",
          "data": {
            "text/plain": [
              "Index(['team', 'targeted_productivity', 'smv', 'wip', 'over_time', 'incentive',\n",
              "       'idle_time', 'idle_men', 'no_of_style_change', 'no_of_workers', 'month',\n",
              "       'quarter_Quarter1', 'quarter_Quarter2', 'quarter_Quarter3',\n",
              "       'quarter_Quarter4', 'quarter_Quarter5', 'department_finishing',\n",
              "       'department_finishing ', 'department_sweing', 'day_Monday',\n",
              "       'day_Saturday', 'day_Sunday', 'day_Thursday', 'day_Tuesday',\n",
              "       'day_Wednesday', 'actual_productivity'],\n",
              "      dtype='object')"
            ]
          },
          "metadata": {},
          "execution_count": 4
        }
      ]
    },
    {
      "cell_type": "code",
      "source": [
        "dataset.head()"
      ],
      "metadata": {
        "colab": {
          "base_uri": "https://localhost:8080/",
          "height": 255
        },
        "id": "-8WpOTeJcALQ",
        "outputId": "e58fcf09-859c-4d5e-9ed3-2b6e1deaa5fc"
      },
      "execution_count": 5,
      "outputs": [
        {
          "output_type": "execute_result",
          "data": {
            "text/plain": [
              "   team  targeted_productivity    smv    wip  over_time  incentive  idle_time  \\\n",
              "0     9                   0.75   3.94    NaN        960          0        0.0   \n",
              "1     7                   0.65  30.10  909.0       7080          0        0.0   \n",
              "2     3                   0.80   4.15    NaN       1440          0        0.0   \n",
              "3     1                   0.65  22.53  762.0       5040          0        0.0   \n",
              "4     4                   0.70  30.10  767.0       3300         50        0.0   \n",
              "\n",
              "   idle_men  no_of_style_change  no_of_workers  ...  department_finishing  \\\n",
              "0         0                   0            8.0  ...                     1   \n",
              "1         0                   1           59.0  ...                     0   \n",
              "2         0                   0            7.0  ...                     0   \n",
              "3         0                   1           42.0  ...                     0   \n",
              "4         0                   1           57.0  ...                     0   \n",
              "\n",
              "   department_finishing   department_sweing  day_Monday  day_Saturday  \\\n",
              "0                      0                  0           0             0   \n",
              "1                      0                  1           0             0   \n",
              "2                      1                  0           0             0   \n",
              "3                      0                  1           0             0   \n",
              "4                      0                  1           1             0   \n",
              "\n",
              "   day_Sunday  day_Thursday  day_Tuesday  day_Wednesday  actual_productivity  \n",
              "0           0             0            0              1             0.755167  \n",
              "1           0             1            0              0             0.535678  \n",
              "2           0             0            0              1             0.820833  \n",
              "3           0             0            0              1             0.581131  \n",
              "4           0             0            0              0             0.790003  \n",
              "\n",
              "[5 rows x 26 columns]"
            ],
            "text/html": [
              "\n",
              "  <div id=\"df-62ec6df8-0378-4882-8e57-1ff5e14618a3\" class=\"colab-df-container\">\n",
              "    <div>\n",
              "<style scoped>\n",
              "    .dataframe tbody tr th:only-of-type {\n",
              "        vertical-align: middle;\n",
              "    }\n",
              "\n",
              "    .dataframe tbody tr th {\n",
              "        vertical-align: top;\n",
              "    }\n",
              "\n",
              "    .dataframe thead th {\n",
              "        text-align: right;\n",
              "    }\n",
              "</style>\n",
              "<table border=\"1\" class=\"dataframe\">\n",
              "  <thead>\n",
              "    <tr style=\"text-align: right;\">\n",
              "      <th></th>\n",
              "      <th>team</th>\n",
              "      <th>targeted_productivity</th>\n",
              "      <th>smv</th>\n",
              "      <th>wip</th>\n",
              "      <th>over_time</th>\n",
              "      <th>incentive</th>\n",
              "      <th>idle_time</th>\n",
              "      <th>idle_men</th>\n",
              "      <th>no_of_style_change</th>\n",
              "      <th>no_of_workers</th>\n",
              "      <th>...</th>\n",
              "      <th>department_finishing</th>\n",
              "      <th>department_finishing</th>\n",
              "      <th>department_sweing</th>\n",
              "      <th>day_Monday</th>\n",
              "      <th>day_Saturday</th>\n",
              "      <th>day_Sunday</th>\n",
              "      <th>day_Thursday</th>\n",
              "      <th>day_Tuesday</th>\n",
              "      <th>day_Wednesday</th>\n",
              "      <th>actual_productivity</th>\n",
              "    </tr>\n",
              "  </thead>\n",
              "  <tbody>\n",
              "    <tr>\n",
              "      <th>0</th>\n",
              "      <td>9</td>\n",
              "      <td>0.75</td>\n",
              "      <td>3.94</td>\n",
              "      <td>NaN</td>\n",
              "      <td>960</td>\n",
              "      <td>0</td>\n",
              "      <td>0.0</td>\n",
              "      <td>0</td>\n",
              "      <td>0</td>\n",
              "      <td>8.0</td>\n",
              "      <td>...</td>\n",
              "      <td>1</td>\n",
              "      <td>0</td>\n",
              "      <td>0</td>\n",
              "      <td>0</td>\n",
              "      <td>0</td>\n",
              "      <td>0</td>\n",
              "      <td>0</td>\n",
              "      <td>0</td>\n",
              "      <td>1</td>\n",
              "      <td>0.755167</td>\n",
              "    </tr>\n",
              "    <tr>\n",
              "      <th>1</th>\n",
              "      <td>7</td>\n",
              "      <td>0.65</td>\n",
              "      <td>30.10</td>\n",
              "      <td>909.0</td>\n",
              "      <td>7080</td>\n",
              "      <td>0</td>\n",
              "      <td>0.0</td>\n",
              "      <td>0</td>\n",
              "      <td>1</td>\n",
              "      <td>59.0</td>\n",
              "      <td>...</td>\n",
              "      <td>0</td>\n",
              "      <td>0</td>\n",
              "      <td>1</td>\n",
              "      <td>0</td>\n",
              "      <td>0</td>\n",
              "      <td>0</td>\n",
              "      <td>1</td>\n",
              "      <td>0</td>\n",
              "      <td>0</td>\n",
              "      <td>0.535678</td>\n",
              "    </tr>\n",
              "    <tr>\n",
              "      <th>2</th>\n",
              "      <td>3</td>\n",
              "      <td>0.80</td>\n",
              "      <td>4.15</td>\n",
              "      <td>NaN</td>\n",
              "      <td>1440</td>\n",
              "      <td>0</td>\n",
              "      <td>0.0</td>\n",
              "      <td>0</td>\n",
              "      <td>0</td>\n",
              "      <td>7.0</td>\n",
              "      <td>...</td>\n",
              "      <td>0</td>\n",
              "      <td>1</td>\n",
              "      <td>0</td>\n",
              "      <td>0</td>\n",
              "      <td>0</td>\n",
              "      <td>0</td>\n",
              "      <td>0</td>\n",
              "      <td>0</td>\n",
              "      <td>1</td>\n",
              "      <td>0.820833</td>\n",
              "    </tr>\n",
              "    <tr>\n",
              "      <th>3</th>\n",
              "      <td>1</td>\n",
              "      <td>0.65</td>\n",
              "      <td>22.53</td>\n",
              "      <td>762.0</td>\n",
              "      <td>5040</td>\n",
              "      <td>0</td>\n",
              "      <td>0.0</td>\n",
              "      <td>0</td>\n",
              "      <td>1</td>\n",
              "      <td>42.0</td>\n",
              "      <td>...</td>\n",
              "      <td>0</td>\n",
              "      <td>0</td>\n",
              "      <td>1</td>\n",
              "      <td>0</td>\n",
              "      <td>0</td>\n",
              "      <td>0</td>\n",
              "      <td>0</td>\n",
              "      <td>0</td>\n",
              "      <td>1</td>\n",
              "      <td>0.581131</td>\n",
              "    </tr>\n",
              "    <tr>\n",
              "      <th>4</th>\n",
              "      <td>4</td>\n",
              "      <td>0.70</td>\n",
              "      <td>30.10</td>\n",
              "      <td>767.0</td>\n",
              "      <td>3300</td>\n",
              "      <td>50</td>\n",
              "      <td>0.0</td>\n",
              "      <td>0</td>\n",
              "      <td>1</td>\n",
              "      <td>57.0</td>\n",
              "      <td>...</td>\n",
              "      <td>0</td>\n",
              "      <td>0</td>\n",
              "      <td>1</td>\n",
              "      <td>1</td>\n",
              "      <td>0</td>\n",
              "      <td>0</td>\n",
              "      <td>0</td>\n",
              "      <td>0</td>\n",
              "      <td>0</td>\n",
              "      <td>0.790003</td>\n",
              "    </tr>\n",
              "  </tbody>\n",
              "</table>\n",
              "<p>5 rows × 26 columns</p>\n",
              "</div>\n",
              "    <div class=\"colab-df-buttons\">\n",
              "\n",
              "  <div class=\"colab-df-container\">\n",
              "    <button class=\"colab-df-convert\" onclick=\"convertToInteractive('df-62ec6df8-0378-4882-8e57-1ff5e14618a3')\"\n",
              "            title=\"Convert this dataframe to an interactive table.\"\n",
              "            style=\"display:none;\">\n",
              "\n",
              "  <svg xmlns=\"http://www.w3.org/2000/svg\" height=\"24px\" viewBox=\"0 -960 960 960\">\n",
              "    <path d=\"M120-120v-720h720v720H120Zm60-500h600v-160H180v160Zm220 220h160v-160H400v160Zm0 220h160v-160H400v160ZM180-400h160v-160H180v160Zm440 0h160v-160H620v160ZM180-180h160v-160H180v160Zm440 0h160v-160H620v160Z\"/>\n",
              "  </svg>\n",
              "    </button>\n",
              "\n",
              "  <style>\n",
              "    .colab-df-container {\n",
              "      display:flex;\n",
              "      gap: 12px;\n",
              "    }\n",
              "\n",
              "    .colab-df-convert {\n",
              "      background-color: #E8F0FE;\n",
              "      border: none;\n",
              "      border-radius: 50%;\n",
              "      cursor: pointer;\n",
              "      display: none;\n",
              "      fill: #1967D2;\n",
              "      height: 32px;\n",
              "      padding: 0 0 0 0;\n",
              "      width: 32px;\n",
              "    }\n",
              "\n",
              "    .colab-df-convert:hover {\n",
              "      background-color: #E2EBFA;\n",
              "      box-shadow: 0px 1px 2px rgba(60, 64, 67, 0.3), 0px 1px 3px 1px rgba(60, 64, 67, 0.15);\n",
              "      fill: #174EA6;\n",
              "    }\n",
              "\n",
              "    .colab-df-buttons div {\n",
              "      margin-bottom: 4px;\n",
              "    }\n",
              "\n",
              "    [theme=dark] .colab-df-convert {\n",
              "      background-color: #3B4455;\n",
              "      fill: #D2E3FC;\n",
              "    }\n",
              "\n",
              "    [theme=dark] .colab-df-convert:hover {\n",
              "      background-color: #434B5C;\n",
              "      box-shadow: 0px 1px 3px 1px rgba(0, 0, 0, 0.15);\n",
              "      filter: drop-shadow(0px 1px 2px rgba(0, 0, 0, 0.3));\n",
              "      fill: #FFFFFF;\n",
              "    }\n",
              "  </style>\n",
              "\n",
              "    <script>\n",
              "      const buttonEl =\n",
              "        document.querySelector('#df-62ec6df8-0378-4882-8e57-1ff5e14618a3 button.colab-df-convert');\n",
              "      buttonEl.style.display =\n",
              "        google.colab.kernel.accessAllowed ? 'block' : 'none';\n",
              "\n",
              "      async function convertToInteractive(key) {\n",
              "        const element = document.querySelector('#df-62ec6df8-0378-4882-8e57-1ff5e14618a3');\n",
              "        const dataTable =\n",
              "          await google.colab.kernel.invokeFunction('convertToInteractive',\n",
              "                                                    [key], {});\n",
              "        if (!dataTable) return;\n",
              "\n",
              "        const docLinkHtml = 'Like what you see? Visit the ' +\n",
              "          '<a target=\"_blank\" href=https://colab.research.google.com/notebooks/data_table.ipynb>data table notebook</a>'\n",
              "          + ' to learn more about interactive tables.';\n",
              "        element.innerHTML = '';\n",
              "        dataTable['output_type'] = 'display_data';\n",
              "        await google.colab.output.renderOutput(dataTable, element);\n",
              "        const docLink = document.createElement('div');\n",
              "        docLink.innerHTML = docLinkHtml;\n",
              "        element.appendChild(docLink);\n",
              "      }\n",
              "    </script>\n",
              "  </div>\n",
              "\n",
              "\n",
              "<div id=\"df-2c8fe848-0201-482c-8e1c-5bc164f13081\">\n",
              "  <button class=\"colab-df-quickchart\" onclick=\"quickchart('df-2c8fe848-0201-482c-8e1c-5bc164f13081')\"\n",
              "            title=\"Suggest charts.\"\n",
              "            style=\"display:none;\">\n",
              "\n",
              "<svg xmlns=\"http://www.w3.org/2000/svg\" height=\"24px\"viewBox=\"0 0 24 24\"\n",
              "     width=\"24px\">\n",
              "    <g>\n",
              "        <path d=\"M19 3H5c-1.1 0-2 .9-2 2v14c0 1.1.9 2 2 2h14c1.1 0 2-.9 2-2V5c0-1.1-.9-2-2-2zM9 17H7v-7h2v7zm4 0h-2V7h2v10zm4 0h-2v-4h2v4z\"/>\n",
              "    </g>\n",
              "</svg>\n",
              "  </button>\n",
              "\n",
              "<style>\n",
              "  .colab-df-quickchart {\n",
              "      --bg-color: #E8F0FE;\n",
              "      --fill-color: #1967D2;\n",
              "      --hover-bg-color: #E2EBFA;\n",
              "      --hover-fill-color: #174EA6;\n",
              "      --disabled-fill-color: #AAA;\n",
              "      --disabled-bg-color: #DDD;\n",
              "  }\n",
              "\n",
              "  [theme=dark] .colab-df-quickchart {\n",
              "      --bg-color: #3B4455;\n",
              "      --fill-color: #D2E3FC;\n",
              "      --hover-bg-color: #434B5C;\n",
              "      --hover-fill-color: #FFFFFF;\n",
              "      --disabled-bg-color: #3B4455;\n",
              "      --disabled-fill-color: #666;\n",
              "  }\n",
              "\n",
              "  .colab-df-quickchart {\n",
              "    background-color: var(--bg-color);\n",
              "    border: none;\n",
              "    border-radius: 50%;\n",
              "    cursor: pointer;\n",
              "    display: none;\n",
              "    fill: var(--fill-color);\n",
              "    height: 32px;\n",
              "    padding: 0;\n",
              "    width: 32px;\n",
              "  }\n",
              "\n",
              "  .colab-df-quickchart:hover {\n",
              "    background-color: var(--hover-bg-color);\n",
              "    box-shadow: 0 1px 2px rgba(60, 64, 67, 0.3), 0 1px 3px 1px rgba(60, 64, 67, 0.15);\n",
              "    fill: var(--button-hover-fill-color);\n",
              "  }\n",
              "\n",
              "  .colab-df-quickchart-complete:disabled,\n",
              "  .colab-df-quickchart-complete:disabled:hover {\n",
              "    background-color: var(--disabled-bg-color);\n",
              "    fill: var(--disabled-fill-color);\n",
              "    box-shadow: none;\n",
              "  }\n",
              "\n",
              "  .colab-df-spinner {\n",
              "    border: 2px solid var(--fill-color);\n",
              "    border-color: transparent;\n",
              "    border-bottom-color: var(--fill-color);\n",
              "    animation:\n",
              "      spin 1s steps(1) infinite;\n",
              "  }\n",
              "\n",
              "  @keyframes spin {\n",
              "    0% {\n",
              "      border-color: transparent;\n",
              "      border-bottom-color: var(--fill-color);\n",
              "      border-left-color: var(--fill-color);\n",
              "    }\n",
              "    20% {\n",
              "      border-color: transparent;\n",
              "      border-left-color: var(--fill-color);\n",
              "      border-top-color: var(--fill-color);\n",
              "    }\n",
              "    30% {\n",
              "      border-color: transparent;\n",
              "      border-left-color: var(--fill-color);\n",
              "      border-top-color: var(--fill-color);\n",
              "      border-right-color: var(--fill-color);\n",
              "    }\n",
              "    40% {\n",
              "      border-color: transparent;\n",
              "      border-right-color: var(--fill-color);\n",
              "      border-top-color: var(--fill-color);\n",
              "    }\n",
              "    60% {\n",
              "      border-color: transparent;\n",
              "      border-right-color: var(--fill-color);\n",
              "    }\n",
              "    80% {\n",
              "      border-color: transparent;\n",
              "      border-right-color: var(--fill-color);\n",
              "      border-bottom-color: var(--fill-color);\n",
              "    }\n",
              "    90% {\n",
              "      border-color: transparent;\n",
              "      border-bottom-color: var(--fill-color);\n",
              "    }\n",
              "  }\n",
              "</style>\n",
              "\n",
              "  <script>\n",
              "    async function quickchart(key) {\n",
              "      const quickchartButtonEl =\n",
              "        document.querySelector('#' + key + ' button');\n",
              "      quickchartButtonEl.disabled = true;  // To prevent multiple clicks.\n",
              "      quickchartButtonEl.classList.add('colab-df-spinner');\n",
              "      try {\n",
              "        const charts = await google.colab.kernel.invokeFunction(\n",
              "            'suggestCharts', [key], {});\n",
              "      } catch (error) {\n",
              "        console.error('Error during call to suggestCharts:', error);\n",
              "      }\n",
              "      quickchartButtonEl.classList.remove('colab-df-spinner');\n",
              "      quickchartButtonEl.classList.add('colab-df-quickchart-complete');\n",
              "    }\n",
              "    (() => {\n",
              "      let quickchartButtonEl =\n",
              "        document.querySelector('#df-2c8fe848-0201-482c-8e1c-5bc164f13081 button');\n",
              "      quickchartButtonEl.style.display =\n",
              "        google.colab.kernel.accessAllowed ? 'block' : 'none';\n",
              "    })();\n",
              "  </script>\n",
              "</div>\n",
              "    </div>\n",
              "  </div>\n"
            ]
          },
          "metadata": {},
          "execution_count": 5
        }
      ]
    },
    {
      "cell_type": "markdown",
      "source": [
        "## Taking care of the missing values by replacing them with mean"
      ],
      "metadata": {
        "id": "9LPpse0zZ-_9"
      }
    },
    {
      "cell_type": "code",
      "source": [
        "from sklearn.impute import SimpleImputer\n",
        "imputer=SimpleImputer(missing_values=np.nan, strategy='mean')\n",
        "imputer.fit(X)\n",
        "X=imputer.transform(X)"
      ],
      "metadata": {
        "id": "EbEElhmfW9Ap"
      },
      "execution_count": 6,
      "outputs": []
    },
    {
      "cell_type": "markdown",
      "metadata": {
        "id": "Ud_1XTb28iXH"
      },
      "source": [
        "## Splitting the dataset into the Training set and Test set"
      ]
    },
    {
      "cell_type": "code",
      "metadata": {
        "id": "bUib_pbl8ipB"
      },
      "source": [
        "from sklearn.model_selection import train_test_split\n",
        "X_train, X_test, y_train, y_test = train_test_split(X, y, test_size = 0.2, random_state = 0)"
      ],
      "execution_count": 7,
      "outputs": []
    },
    {
      "cell_type": "markdown",
      "metadata": {
        "id": "Rb5nWuSHEfBV"
      },
      "source": [
        "## Training the Polynomial Regression model on the Training set"
      ]
    },
    {
      "cell_type": "code",
      "metadata": {
        "id": "HYplp4pTEm0O",
        "colab": {
          "base_uri": "https://localhost:8080/",
          "height": 74
        },
        "outputId": "f22c1d29-b8af-4b48-cd9c-088e7018f64c"
      },
      "source": [
        "from sklearn.preprocessing import PolynomialFeatures\n",
        "from sklearn.linear_model import LinearRegression\n",
        "poly_reg = PolynomialFeatures(degree = 4)\n",
        "X_poly = poly_reg.fit_transform(X_train)\n",
        "regressor = LinearRegression()\n",
        "regressor.fit(X_poly, y_train)"
      ],
      "execution_count": 8,
      "outputs": [
        {
          "output_type": "execute_result",
          "data": {
            "text/plain": [
              "LinearRegression()"
            ],
            "text/html": [
              "<style>#sk-container-id-1 {color: black;background-color: white;}#sk-container-id-1 pre{padding: 0;}#sk-container-id-1 div.sk-toggleable {background-color: white;}#sk-container-id-1 label.sk-toggleable__label {cursor: pointer;display: block;width: 100%;margin-bottom: 0;padding: 0.3em;box-sizing: border-box;text-align: center;}#sk-container-id-1 label.sk-toggleable__label-arrow:before {content: \"▸\";float: left;margin-right: 0.25em;color: #696969;}#sk-container-id-1 label.sk-toggleable__label-arrow:hover:before {color: black;}#sk-container-id-1 div.sk-estimator:hover label.sk-toggleable__label-arrow:before {color: black;}#sk-container-id-1 div.sk-toggleable__content {max-height: 0;max-width: 0;overflow: hidden;text-align: left;background-color: #f0f8ff;}#sk-container-id-1 div.sk-toggleable__content pre {margin: 0.2em;color: black;border-radius: 0.25em;background-color: #f0f8ff;}#sk-container-id-1 input.sk-toggleable__control:checked~div.sk-toggleable__content {max-height: 200px;max-width: 100%;overflow: auto;}#sk-container-id-1 input.sk-toggleable__control:checked~label.sk-toggleable__label-arrow:before {content: \"▾\";}#sk-container-id-1 div.sk-estimator input.sk-toggleable__control:checked~label.sk-toggleable__label {background-color: #d4ebff;}#sk-container-id-1 div.sk-label input.sk-toggleable__control:checked~label.sk-toggleable__label {background-color: #d4ebff;}#sk-container-id-1 input.sk-hidden--visually {border: 0;clip: rect(1px 1px 1px 1px);clip: rect(1px, 1px, 1px, 1px);height: 1px;margin: -1px;overflow: hidden;padding: 0;position: absolute;width: 1px;}#sk-container-id-1 div.sk-estimator {font-family: monospace;background-color: #f0f8ff;border: 1px dotted black;border-radius: 0.25em;box-sizing: border-box;margin-bottom: 0.5em;}#sk-container-id-1 div.sk-estimator:hover {background-color: #d4ebff;}#sk-container-id-1 div.sk-parallel-item::after {content: \"\";width: 100%;border-bottom: 1px solid gray;flex-grow: 1;}#sk-container-id-1 div.sk-label:hover label.sk-toggleable__label {background-color: #d4ebff;}#sk-container-id-1 div.sk-serial::before {content: \"\";position: absolute;border-left: 1px solid gray;box-sizing: border-box;top: 0;bottom: 0;left: 50%;z-index: 0;}#sk-container-id-1 div.sk-serial {display: flex;flex-direction: column;align-items: center;background-color: white;padding-right: 0.2em;padding-left: 0.2em;position: relative;}#sk-container-id-1 div.sk-item {position: relative;z-index: 1;}#sk-container-id-1 div.sk-parallel {display: flex;align-items: stretch;justify-content: center;background-color: white;position: relative;}#sk-container-id-1 div.sk-item::before, #sk-container-id-1 div.sk-parallel-item::before {content: \"\";position: absolute;border-left: 1px solid gray;box-sizing: border-box;top: 0;bottom: 0;left: 50%;z-index: -1;}#sk-container-id-1 div.sk-parallel-item {display: flex;flex-direction: column;z-index: 1;position: relative;background-color: white;}#sk-container-id-1 div.sk-parallel-item:first-child::after {align-self: flex-end;width: 50%;}#sk-container-id-1 div.sk-parallel-item:last-child::after {align-self: flex-start;width: 50%;}#sk-container-id-1 div.sk-parallel-item:only-child::after {width: 0;}#sk-container-id-1 div.sk-dashed-wrapped {border: 1px dashed gray;margin: 0 0.4em 0.5em 0.4em;box-sizing: border-box;padding-bottom: 0.4em;background-color: white;}#sk-container-id-1 div.sk-label label {font-family: monospace;font-weight: bold;display: inline-block;line-height: 1.2em;}#sk-container-id-1 div.sk-label-container {text-align: center;}#sk-container-id-1 div.sk-container {/* jupyter's `normalize.less` sets `[hidden] { display: none; }` but bootstrap.min.css set `[hidden] { display: none !important; }` so we also need the `!important` here to be able to override the default hidden behavior on the sphinx rendered scikit-learn.org. See: https://github.com/scikit-learn/scikit-learn/issues/21755 */display: inline-block !important;position: relative;}#sk-container-id-1 div.sk-text-repr-fallback {display: none;}</style><div id=\"sk-container-id-1\" class=\"sk-top-container\"><div class=\"sk-text-repr-fallback\"><pre>LinearRegression()</pre><b>In a Jupyter environment, please rerun this cell to show the HTML representation or trust the notebook. <br />On GitHub, the HTML representation is unable to render, please try loading this page with nbviewer.org.</b></div><div class=\"sk-container\" hidden><div class=\"sk-item\"><div class=\"sk-estimator sk-toggleable\"><input class=\"sk-toggleable__control sk-hidden--visually\" id=\"sk-estimator-id-1\" type=\"checkbox\" checked><label for=\"sk-estimator-id-1\" class=\"sk-toggleable__label sk-toggleable__label-arrow\">LinearRegression</label><div class=\"sk-toggleable__content\"><pre>LinearRegression()</pre></div></div></div></div></div>"
            ]
          },
          "metadata": {},
          "execution_count": 8
        }
      ]
    },
    {
      "cell_type": "markdown",
      "metadata": {
        "id": "pzF3BRps9nlk"
      },
      "source": [
        "## Predicting the Test set results"
      ]
    },
    {
      "cell_type": "code",
      "metadata": {
        "id": "36aFLFBK9pMk",
        "colab": {
          "base_uri": "https://localhost:8080/"
        },
        "outputId": "770648eb-2f6e-4b8f-9b58-095f65071019"
      },
      "source": [
        "y_pred = regressor.predict(poly_reg.transform(X_test))\n",
        "np.set_printoptions(precision=2)\n",
        "print(np.concatenate((y_pred.reshape(len(y_pred),1), y_test.reshape(len(y_test),1)),1))"
      ],
      "execution_count": 9,
      "outputs": [
        {
          "output_type": "stream",
          "name": "stdout",
          "text": [
            "[[ 2.33e+00  7.50e-01]\n",
            " [ 1.18e+00  8.00e-01]\n",
            " [-7.21e+02  6.57e-01]\n",
            " [-4.30e-01  7.26e-01]\n",
            " [ 1.60e+00  3.94e-01]\n",
            " [ 4.07e+01  5.36e-01]\n",
            " [ 8.03e-01  6.81e-01]\n",
            " [-3.12e+01  8.00e-01]\n",
            " [-3.75e+01  8.01e-01]\n",
            " [-5.94e+01  7.51e-01]\n",
            " [ 6.19e+00  7.50e-01]\n",
            " [ 3.50e+00  9.00e-01]\n",
            " [ 3.19e-01  8.58e-01]\n",
            " [ 1.36e+00  7.55e-01]\n",
            " [ 1.39e+00  9.11e-01]\n",
            " [-1.71e+00  7.55e-01]\n",
            " [ 3.59e-01  9.02e-01]\n",
            " [ 1.41e+01  7.00e-01]\n",
            " [-1.85e-01  9.07e-01]\n",
            " [-4.92e+01  7.01e-01]\n",
            " [ 6.59e+00  7.01e-01]\n",
            " [-2.32e+01  7.51e-01]\n",
            " [-2.61e+01  7.01e-01]\n",
            " [ 1.32e+00  8.01e-01]\n",
            " [ 1.10e+00  8.06e-01]\n",
            " [-7.89e+01  1.00e+00]\n",
            " [ 4.55e+00  8.30e-01]\n",
            " [ 2.32e+00  9.40e-01]\n",
            " [ 9.76e+00  6.00e-01]\n",
            " [ 2.60e+00  7.33e-01]\n",
            " [ 2.66e+01  6.02e-01]\n",
            " [-7.98e+00  8.00e-01]\n",
            " [ 1.45e+00  1.01e+00]\n",
            " [ 7.28e+01  6.50e-01]\n",
            " [ 1.48e+00  7.73e-01]\n",
            " [-4.16e+01  8.00e-01]\n",
            " [ 2.00e+01  3.30e-01]\n",
            " [-2.58e+01  6.50e-01]\n",
            " [ 6.85e-01  4.51e-01]\n",
            " [-4.74e+00  6.27e-01]\n",
            " [-2.27e+02  6.62e-01]\n",
            " [ 1.72e+00  5.37e-01]\n",
            " [-3.01e-01  8.17e-01]\n",
            " [ 2.04e+00  8.70e-01]\n",
            " [ 4.02e+00  7.27e-01]\n",
            " [ 2.32e+01  7.51e-01]\n",
            " [ 9.62e-01  9.81e-01]\n",
            " [ 9.90e+01  8.00e-01]\n",
            " [-2.39e-01  7.00e-01]\n",
            " [ 3.42e+01  3.50e-01]\n",
            " [ 1.43e+01  7.51e-01]\n",
            " [-2.67e+01  5.42e-01]\n",
            " [ 6.86e+00  7.00e-01]\n",
            " [-1.49e+02  9.00e-01]\n",
            " [ 2.52e-01  6.57e-01]\n",
            " [-6.23e+01  2.34e-01]\n",
            " [ 4.41e+01  6.01e-01]\n",
            " [ 1.48e+01  8.50e-01]\n",
            " [ 3.90e-01  7.02e-01]\n",
            " [ 2.88e+01  3.50e-01]\n",
            " [-1.07e+00  7.00e-01]\n",
            " [ 6.82e-01  8.05e-01]\n",
            " [-1.51e+00  8.99e-01]\n",
            " [ 3.79e+00  3.53e-01]\n",
            " [-4.15e+00  8.65e-01]\n",
            " [-2.60e+00  7.00e-01]\n",
            " [-2.88e+00  7.50e-01]\n",
            " [ 8.97e-01  7.56e-01]\n",
            " [ 1.52e+00  7.97e-01]\n",
            " [ 3.66e+01  7.00e-01]\n",
            " [ 8.33e+01  9.01e-01]\n",
            " [ 1.29e+00  9.77e-01]\n",
            " [-5.71e+01  3.79e-01]\n",
            " [-1.15e+00  7.49e-01]\n",
            " [ 2.99e+01  7.01e-01]\n",
            " [ 2.14e+01  7.50e-01]\n",
            " [ 1.69e+01  4.67e-01]\n",
            " [ 1.00e+00  8.82e-01]\n",
            " [ 1.68e+01  8.21e-01]\n",
            " [ 3.48e+00  7.51e-01]\n",
            " [ 9.38e-01  4.41e-01]\n",
            " [-1.17e+01  7.54e-01]\n",
            " [-2.42e+00  9.26e-01]\n",
            " [ 1.89e+00  8.53e-01]\n",
            " [ 1.34e-01  9.03e-01]\n",
            " [ 1.99e+01  7.50e-01]\n",
            " [ 1.30e+00  3.50e-01]\n",
            " [ 2.56e+00  8.21e-01]\n",
            " [-2.00e+00  8.47e-01]\n",
            " [ 3.92e+00  9.67e-01]\n",
            " [ 2.35e+00  5.80e-01]\n",
            " [-1.41e-01  7.97e-01]\n",
            " [-7.24e-01  7.51e-01]\n",
            " [ 3.46e+00  9.29e-01]\n",
            " [ 7.98e+00  8.00e-01]\n",
            " [-1.29e+00  4.66e-01]\n",
            " [-1.16e+00  4.11e-01]\n",
            " [-4.54e-01  8.00e-01]\n",
            " [ 2.20e+01  9.01e-01]\n",
            " [ 1.05e+00  8.46e-01]\n",
            " [ 3.60e+01  7.00e-01]\n",
            " [ 1.16e+01  8.01e-01]\n",
            " [ 6.30e-01  8.58e-01]\n",
            " [-8.40e+01  4.12e-01]\n",
            " [ 1.10e+01  7.00e-01]\n",
            " [ 2.13e+00  8.24e-01]\n",
            " [ 2.03e+01  7.51e-01]\n",
            " [ 1.51e+00  2.72e-01]\n",
            " [-2.11e+02  8.00e-01]\n",
            " [-7.13e+01  2.64e-01]\n",
            " [-7.35e-01  8.10e-01]\n",
            " [ 7.96e-01  6.68e-01]\n",
            " [ 5.69e+04  8.00e-01]\n",
            " [ 1.98e-02  1.02e+00]\n",
            " [-2.29e+01  9.20e-01]\n",
            " [ 3.23e+01  7.01e-01]\n",
            " [-5.01e-01  6.48e-01]\n",
            " [-4.57e+00  8.00e-01]\n",
            " [-1.21e+01  7.00e-01]\n",
            " [ 6.60e+00  6.36e-01]\n",
            " [ 1.86e+00  8.00e-01]\n",
            " [ 1.94e+01  3.50e-01]\n",
            " [-1.14e+01  8.01e-01]\n",
            " [ 2.18e+01  8.01e-01]\n",
            " [-2.42e+01  7.00e-01]\n",
            " [ 2.19e+01  7.00e-01]\n",
            " [-6.97e-01  7.58e-01]\n",
            " [-3.86e+00  1.00e+00]\n",
            " [-3.15e+02  3.94e-01]\n",
            " [-3.52e+01  6.50e-01]\n",
            " [ 7.04e-01  2.38e-01]\n",
            " [-1.13e+01  8.00e-01]\n",
            " [-1.51e+00  6.65e-01]\n",
            " [ 1.72e+00  2.57e-01]\n",
            " [-8.19e+00  8.00e-01]\n",
            " [-6.80e+01  3.50e-01]\n",
            " [ 9.43e-01  8.45e-01]\n",
            " [-1.33e+01  8.01e-01]\n",
            " [-7.44e+00  6.00e-01]\n",
            " [ 1.13e+01  4.76e-01]\n",
            " [-3.49e-01  7.50e-01]\n",
            " [ 2.33e+01  7.00e-01]\n",
            " [ 1.51e+00  9.72e-01]\n",
            " [-1.05e+00  6.65e-01]\n",
            " [-2.26e+01  8.00e-01]\n",
            " [ 8.26e-01  4.53e-01]\n",
            " [-4.58e+00  8.00e-01]\n",
            " [-1.88e+00  9.74e-01]\n",
            " [ 7.11e+00  5.46e-01]\n",
            " [ 1.18e+00  8.62e-01]\n",
            " [ 3.65e+02  2.64e-01]\n",
            " [ 7.75e-01  6.28e-01]\n",
            " [-4.36e+00  8.01e-01]\n",
            " [-3.99e+00  8.00e-01]\n",
            " [ 6.51e-01  8.50e-01]\n",
            " [ 2.78e+00  3.28e-01]\n",
            " [ 1.17e+00  3.46e-01]\n",
            " [ 1.86e+00  5.32e-01]\n",
            " [ 7.54e+00  7.87e-01]\n",
            " [ 3.99e+01  3.50e-01]\n",
            " [-1.64e-01  9.02e-01]\n",
            " [ 4.93e+01  1.00e+00]\n",
            " [-8.94e-02  8.54e-01]\n",
            " [ 3.15e+00  8.70e-01]\n",
            " [-6.10e+02  5.76e-01]\n",
            " [ 6.20e-01  6.40e-01]\n",
            " [-4.59e-01  9.51e-01]\n",
            " [-2.06e+01  8.51e-01]\n",
            " [ 5.39e+00  7.50e-01]\n",
            " [-6.07e-01  9.50e-01]\n",
            " [-1.74e+01  7.50e-01]\n",
            " [ 1.35e+00  6.52e-01]\n",
            " [ 1.16e+00  3.14e-01]\n",
            " [ 2.03e+00  2.47e-01]\n",
            " [-4.58e+01  7.50e-01]\n",
            " [-1.65e-01  8.84e-01]\n",
            " [-3.19e+01  7.50e-01]\n",
            " [ 2.36e+01  7.50e-01]\n",
            " [-1.02e+01  9.50e-01]\n",
            " [-1.45e+00  8.50e-01]\n",
            " [ 1.22e+00  8.84e-01]\n",
            " [ 7.94e+00  7.00e-01]\n",
            " [ 9.92e-02  9.14e-01]\n",
            " [-2.88e+00  9.92e-01]\n",
            " [ 7.85e-01  6.70e-01]\n",
            " [ 1.24e+01  7.61e-01]\n",
            " [ 2.38e+01  8.00e-01]\n",
            " [-1.01e+02  8.51e-01]\n",
            " [ 6.79e-01  2.84e-01]\n",
            " [-8.04e+00  8.00e-01]\n",
            " [ 8.33e-01  7.88e-01]\n",
            " [-6.30e+01  6.50e-01]\n",
            " [ 1.23e+00  3.25e-01]\n",
            " [ 1.86e+00  8.92e-01]\n",
            " [ 4.86e-01  6.26e-01]\n",
            " [-9.78e-01  8.72e-01]\n",
            " [ 1.15e+00  9.61e-01]\n",
            " [-1.87e+02  2.95e-01]\n",
            " [ 3.48e+01  8.50e-01]\n",
            " [-1.00e+02  7.00e-01]\n",
            " [ 1.21e+00  8.91e-01]\n",
            " [-3.22e+00  5.38e-01]\n",
            " [-1.39e+01  6.50e-01]\n",
            " [-1.82e+00  1.00e+00]]\n"
          ]
        }
      ]
    },
    {
      "cell_type": "markdown",
      "metadata": {
        "id": "Fz1uTlWV919-"
      },
      "source": [
        "## Evaluating the Model Performance"
      ]
    },
    {
      "cell_type": "code",
      "metadata": {
        "id": "xvZQ_4W893-e",
        "colab": {
          "base_uri": "https://localhost:8080/"
        },
        "outputId": "e9ffd0cb-75e0-43e0-c2ff-5a686b7ad95b"
      },
      "source": [
        "from sklearn.metrics import r2_score\n",
        "r2_score(y_test, y_pred)"
      ],
      "execution_count": 10,
      "outputs": [
        {
          "output_type": "execute_result",
          "data": {
            "text/plain": [
              "-440171231.78411996"
            ]
          },
          "metadata": {},
          "execution_count": 10
        }
      ]
    }
  ]
}